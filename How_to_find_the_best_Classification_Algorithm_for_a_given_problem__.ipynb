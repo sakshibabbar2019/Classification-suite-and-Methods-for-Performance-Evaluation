{
  "cells": [
    {
      "cell_type": "markdown",
      "metadata": {
        "id": "zKho7cUPyhSp"
      },
      "source": [
        "# Comparing Classification algorithms\n",
        "\n",
        "The list of classification algorithms that will be used to make a suit are:\n",
        "\n",
        "1. Logistic regression\n",
        "\n",
        "2. Naive Bayes\n",
        "\n",
        "3. Decision tree\n",
        "\n",
        "4. K nearest neighbor\n",
        "\n",
        "5. Support vector Regression\n",
        "\n",
        "One of the robust method to compare the performances of different models is by using cross validation technique. Cross validation provides a good estimate on how model will perform on unseen data. Under this method,  data is divided into  k subsets of data(also known as folds). Training is done on (k-1) subsets of data and model evaluation is done on the subset that was not used for training. This process is repeated k times, with a different subset reserved for evaluation (and excluded from training) each time. The technique provides better confidence on models performance on an unseen data. \n",
        "\n",
        "The key steps followed in this tutorial to make you learn how to use cross validation to discover the best performing model for a given data set as detailed below:\n",
        "\n",
        "1. Load libraries\n",
        "\n",
        "2. Load data set\n",
        "\n",
        "3. Divide data set into training and test set\n",
        "        - 80% training\n",
        "        - 20% test set\n",
        "\n",
        "4. Create suit of classification algorithms\n",
        "\n",
        "5. Apply cross validation on each algorithm in suit using training set\n",
        "\n",
        "6. Find the algorithm based on accuracy score \n",
        "\n",
        "7. Use the chosen algorithm on the test set to make prediction on unseen data\n",
        "\n",
        "8. Interpret model performance using confusion matrix, precision, recall, accuracy, F1 Score and ROC curve \n",
        "\n",
        "\n",
        "The key learning are : \n",
        "\n",
        "1. Building suit of classification algorithms\n",
        "\n",
        "2. Train algorithms in suit using cross validation\n",
        "\n",
        "3. Interpreting the performace of models in suit on each cross validation iteration\n",
        "\n",
        "4. Visualizing performance of models\n",
        "\n",
        "5. Choosing the model based on average performance of cross validation iteration against each model in the suit\n",
        "\n",
        "6. Using the chosen model to make predictions\n",
        "\n",
        "7. Interpreting performance of chosen model\n",
        "\n",
        "\n",
        "The data set used in this tutorial is taken from medical domain. The name of the data set is  'heart disease'  taken from https://www.kaggle.com/ronitf/heart-disease-uci. The size of the data set is (303 x 14). The aim is to predict if the person will suffer from heart disease based on various symptoms presented as 13 indicator features in the data set. It is a binary classification data set. \n",
        "\n",
        "\n",
        "The step by step is demonstrated is demonstrated below"
      ]
    },
    {
      "cell_type": "markdown",
      "metadata": {
        "id": "zEYPrakMyhSt"
      },
      "source": [
        "# 1. Import libraries"
      ]
    },
    {
      "cell_type": "code",
      "execution_count": null,
      "metadata": {
        "id": "oibWw_N9yhSv"
      },
      "outputs": [],
      "source": [
        "# importing Pandas for data manipulation\n",
        "import pandas as pd\n",
        "import numpy as np\n",
        "\n",
        "# importing classification models\n",
        "from sklearn.linear_model import LogisticRegression \n",
        "from sklearn.svm import SVC\n",
        "from sklearn.neighbors import KNeighborsClassifier\n",
        "from sklearn.tree import DecisionTreeClassifier\n",
        "from sklearn.naive_bayes import GaussianNB\n",
        "\n",
        "# importing matplotlib for visualization\n",
        "from matplotlib.pyplot import boxplot\n",
        "import matplotlib.pyplot as plt\n",
        "import seaborn as sns\n",
        "%matplotlib inline\n",
        "\n",
        "# importing method to perform cross validation\n",
        "from sklearn.model_selection import train_test_split \n",
        "from sklearn.model_selection import KFold\n",
        "from sklearn.model_selection import cross_val_score\n",
        "\n",
        "#importing methods for model evaluation\n",
        "from sklearn import metrics"
      ]
    },
    {
      "cell_type": "markdown",
      "metadata": {
        "id": "iS0IIu7ayhSx"
      },
      "source": [
        "# 2. Load data set"
      ]
    },
    {
      "cell_type": "code",
      "execution_count": null,
      "metadata": {
        "id": "3Dojj5SbyhSx"
      },
      "outputs": [],
      "source": [
        "dataset = pd.read_csv(\"Data sets/heart.csv\")\n",
        "dataset.info()"
      ]
    },
    {
      "cell_type": "markdown",
      "metadata": {
        "id": "t-dNdxEzyhSy"
      },
      "source": [
        "All features are numerical in nature. The feature named \"target\" is the class variable. "
      ]
    },
    {
      "cell_type": "markdown",
      "metadata": {
        "id": "Y9jQCyXlyhSz"
      },
      "source": [
        "# 3. Building training and test sets\n",
        "\n",
        "The training set will be used for cross validation evaluation. Whereas, test set will be used for predictive task by the best performing model discovered by cross validation technique"
      ]
    },
    {
      "cell_type": "code",
      "execution_count": null,
      "metadata": {
        "id": "9qWaXT0CyhSz"
      },
      "outputs": [],
      "source": [
        "# My_data contains all data points from My_data set from from first feature to 12th feature(indicator features)\n",
        "My_data = dataset.iloc[:,0:13] \n",
        "\n",
        "# My_target contains class information which is 13th feature in the data set of \n",
        "\n",
        "My_data_target=dataset.iloc[:,13]\n",
        "\n",
        "\n",
        "X_train, X_test, Y_train, Y_test = train_test_split(My_data, My_data_target, test_size=0.8, random_state=10)\n",
        "\n",
        "print(\"The sample training data without target feature\\n\")\n",
        "print(X_train.head())\n",
        "print(\"\\nThe sample with only target feature\\n\")\n",
        "print(Y_test.head())"
      ]
    },
    {
      "cell_type": "code",
      "execution_count": null,
      "metadata": {
        "id": "KnWDX7IOyhSz"
      },
      "outputs": [],
      "source": []
    },
    {
      "cell_type": "markdown",
      "metadata": {
        "id": "Eg8NvdN_yhS0"
      },
      "source": [
        "# 4. Building suit of Classification Algorithm\n",
        "\n",
        "The following code makes a suit of all classification algorithms "
      ]
    },
    {
      "cell_type": "code",
      "execution_count": null,
      "metadata": {
        "id": "ZnxPhN_gyhS0"
      },
      "outputs": [],
      "source": [
        "# creating a empty list\n",
        "List_Classification_Models =[]\n",
        "#  adding to list the instance of Logistic regression model\n",
        "List_Classification_Models.append(('LR', LogisticRegression()))\n",
        "#  adding to list the instance of KNN model\n",
        "List_Classification_Models.append(('KNN', KNeighborsClassifier()))\n",
        "#  adding to list the instance of SVM model\n",
        "List_Classification_Models.append(('SVM', SVC()))\n",
        "#  adding to list the instance of Naive Bayes model\n",
        "List_Classification_Models.append(('NaiveBayes', GaussianNB()))\n",
        "#  adding to list the instance of Decision tree\n",
        "List_Classification_Models.append(('DT', DecisionTreeClassifier()))\n"
      ]
    },
    {
      "cell_type": "markdown",
      "metadata": {
        "id": "3_jakEaNyhS0"
      },
      "source": [
        "List_Classification_Models is the list containing instances of classification algorithms with defualt parameters value. However, default parameter setting can be changed as per the requirement of the user. For eg. user can set number of k neighbors to 10 by using following: \n",
        "List_Classification_Models.append(('KNN', KNeighborsClassifier(n_neighbors=10))). You can print List_Classification_Models in order to see the default parameter setting of all classification models. "
      ]
    },
    {
      "cell_type": "markdown",
      "metadata": {
        "id": "0LWResfbyhS0"
      },
      "source": [
        "# 5. Applying Cross validation on Algorithms in Suit\n",
        "\n",
        "Using training set, the following code applies 10 cross validation and prints accuracy on each interation on every regression algorithm present in the suit."
      ]
    },
    {
      "cell_type": "code",
      "execution_count": null,
      "metadata": {
        "id": "iVCyJk9vyhS1"
      },
      "outputs": [],
      "source": [
        "# creating empty lists to store results of cross validation and the name of the model\n",
        "Model_Eval_Score =[]\n",
        "Name_of_model =[]\n",
        "# applying cross validation on each algorithm in suit\n",
        "for name, model_detail in List_Classification_Models:\n",
        "    # intiating cross validation with 10 iterations\n",
        "    kfold = KFold(n_splits=10)\n",
        "     # applying cross validation with 10 iterations on the training data\n",
        "    CV_Results = cross_val_score(model_detail, X_train, Y_train, cv=kfold)\n",
        "    # adding result of each iteration in list\n",
        "    Model_Eval_Score.append(CV_Results)\n",
        "    # name of the corresponding algorithm is stored as follows\n",
        "    Name_of_model.append(name)\n",
        "\n",
        "# creating DataFrame with cross validation results where each row indicates the performance \n",
        "# of the model on different cross validation iterations\n",
        "CV_IterationsBy_model = pd.DataFrame(Model_Eval_Score,index=['LR','KNN', 'SVM', 'NaiveBayes', \n",
        "                                 'DT'])\n",
        "print(\"The 10 cross validation results of each classification algoritm are: \\n\")\n",
        "# printing the transpose of the data frame so that each column is a unique model\n",
        "Table_Results_CV= pd.DataFrame(CV_IterationsBy_model.T)\n",
        "print(Table_Results_CV)\n",
        "print(\"\\n\")\n",
        "# printing the mean of accuracy of each model\n",
        "print(\"The mean performance of each regressor algorithm are: \\n\")\n",
        "print(Table_Results_CV.mean())\n"
      ]
    },
    {
      "cell_type": "markdown",
      "metadata": {
        "id": "StSCgvz0yhS1"
      },
      "source": [
        "$\\textbf{Interpretation:}$\n",
        "\n",
        "The entry in each column of CV_IterationsBy_model data frame represents the accuracy value achieved by each model on 10 iterative run of cross validation. For eg., at iteration 1, Logistic regression model resulted in 100% of accuracy and on iteration 2, the accuracy value dropped to 66.6% and so on. From the overall results, it may be concluded that Naive Bayes is the best model for the given data set with average accuracy of 78.3%. "
      ]
    },
    {
      "cell_type": "markdown",
      "metadata": {
        "id": "IVNxal2zyhS2"
      },
      "source": [
        "# 6. Comparison of Performance of Classification Algorithms using Boxplot "
      ]
    },
    {
      "cell_type": "code",
      "execution_count": null,
      "metadata": {
        "id": "G2kXYAsByhS2"
      },
      "outputs": [],
      "source": [
        "# boxplot algorithm comparison\n",
        "Table_Results_CV.boxplot()"
      ]
    },
    {
      "cell_type": "markdown",
      "metadata": {
        "id": "uUXYePeDyhS2"
      },
      "source": [
        "# 6. Applying the Model on Test set\n",
        "\n",
        "Using cross validation technique it has been identified that Naive Bayes model will perform the best out of several classfication models on the unseen data.  So we will use Naive Bayes for the predictive task. As a first step, we fit the training data on Naive bayes and then, apply test set for prediction.  The final evaluation of model on the test set is done using various metrices such as confusion matrix, precision, recall and  accuracy."
      ]
    },
    {
      "cell_type": "code",
      "execution_count": null,
      "metadata": {
        "id": "svFC0axjyhS3"
      },
      "outputs": [],
      "source": [
        "# Fitting Ridge on the Training data set\n",
        "\n",
        "NB_model = GaussianNB()\n",
        "NB_model.fit(X_train, Y_train)\n",
        "\n",
        "# Getting prediction on train and test sets\n",
        "\n",
        "NB_model_pred_test= NB_model.predict(X_test)\n",
        "\n",
        "\n",
        "\n",
        "# Computing Model Accuracy\n",
        "\n",
        "print(\"Accuracy:\",round(metrics.accuracy_score(Y_test, NB_model_pred_test),2) * 100, \"%\")\n",
        "\n",
        "print (\"---------------\")\n",
        "\n",
        "# Printing confusion matrix\n",
        "\n",
        "print (\"Confusion matrix\")\n",
        "\n",
        "print (\"---------------\")\n",
        "\n",
        "print(metrics.confusion_matrix(Y_test, NB_model_pred_test))\n",
        "\n",
        "# Model detailed classification report\n",
        "target_names = ['class 0', 'class 1']\n",
        "\n",
        "\n",
        "print (\"---------------\")\n",
        "\n",
        "print(\"Classification report\", metrics.classification_report(Y_test, NB_model_pred_test,target_names =target_names))"
      ]
    },
    {
      "cell_type": "markdown",
      "metadata": {
        "id": "Pc4JjmNIyhS3"
      },
      "source": [
        "$\\textbf{Interpretation:}$\n",
        "The model performed with 78% of accuracy on test data. Class wise Precision, recall, f1-score are also listed. Confusion matrix details TP, TN,FP and FN. For eg. TP by naive bayes is 95 and TN is 94 cases. Hence, total correct predictions by the models will be 95+94 = 189. The number of total wrong predictions are 20+34 = 54. We can represent the confusion matrix using heatmap in seaborn for better visualization and interpretation. Code below demonstrate the process of representing confusion matrix in seaborn"
      ]
    },
    {
      "cell_type": "markdown",
      "metadata": {
        "id": "bIN2DCMcyhS4"
      },
      "source": [
        "# 7. Plotting Confusion matrix using Seaborn "
      ]
    },
    {
      "cell_type": "code",
      "execution_count": null,
      "metadata": {
        "id": "q44vLzcVyhS5"
      },
      "outputs": [],
      "source": [
        "ax= plt.subplot()\n",
        "Confusion_matrix=metrics.confusion_matrix(Y_test, NB_model_pred_test)\n",
        "sns.heatmap(Confusion_matrix, annot=True, ax = ax, cmap=\"viridis\"); #annot=True to annotate cells\n",
        "\n",
        "# labels, title and ticks\n",
        "ax.set_xlabel('Predicted labels');ax.set_ylabel('True labels'); \n",
        "ax.set_title('Confusion Matrix'); \n",
        "ax.xaxis.set_ticklabels(['class 0', 'class 1']); ax.yaxis.set_ticklabels(['class 0', 'class 1']);\n"
      ]
    },
    {
      "cell_type": "markdown",
      "metadata": {
        "id": "csjhXYLnyhS5"
      },
      "source": [
        "# 8. Plotting ROC Curve"
      ]
    },
    {
      "cell_type": "markdown",
      "metadata": {
        "id": "mTSND3tzyhS5"
      },
      "source": [
        "In order to plot ROC curve, we need to use predict_proba() method with the fitted function as it returns the probability of an instance belonging to different classes. For a binary classification problem, predict_proba() returns class probabilities for each class. The first column contains the probability of the first class and the second column contains the probability of the second class. In order to plot ROC, we use the second column to the probabilities generated by predict_proba() function and pass it to  metrics.auc()."
      ]
    },
    {
      "cell_type": "code",
      "execution_count": null,
      "metadata": {
        "id": "YnFZldSLyhS6",
        "outputId": "aa18d48a-40a6-4165-be67-384440c4e302"
      },
      "outputs": [
        {
          "data": {
            "image/png": "[encoded data removed]",
            "text/plain": [
              "<Figure size 432x288 with 1 Axes>"
            ]
          },
          "metadata": {},
          "output_type": "display_data"
        }
      ],
      "source": [
        "NB_model_pred_prob= NB_model.predict_proba(X_test)\n",
        "preds = NB_model_pred_prob[:,1]\n",
        "\n",
        "fpr, tpr, threshold = metrics.roc_curve(Y_test, preds)\n",
        "roc_auc = metrics.auc(fpr, tpr)\n",
        "\n",
        "plt.title('Receiver Operating Characteristic')\n",
        "plt.plot(fpr, tpr, 'b', label = 'AUC = %0.2f' % roc_auc)\n",
        "plt.legend(loc = 'lower right')\n",
        "plt.plot([0, 1], [0, 1],'r--')\n",
        "plt.xlim([0, 1])\n",
        "plt.ylim([0, 1])\n",
        "plt.ylabel('True Positive Rate')\n",
        "plt.xlabel('False Positive Rate')\n",
        "plt.show()\n"
      ]
    },
    {
      "cell_type": "markdown",
      "metadata": {
        "id": "DCcXsUuryhS7"
      },
      "source": []
    },
    {
      "cell_type": "code",
      "execution_count": null,
      "metadata": {
        "id": "AZm8ONpryhS7"
      },
      "outputs": [],
      "source": []
    }
  ],
  "metadata": {
    "kernelspec": {
      "display_name": "Python 3",
      "language": "python",
      "name": "python3"
    },
    "language_info": {
      "codemirror_mode": {
        "name": "ipython",
        "version": 3
      },
      "file_extension": ".py",
      "mimetype": "text/x-python",
      "name": "python",
      "nbconvert_exporter": "python",
      "pygments_lexer": "ipython3",
      "version": "3.6.5"
    },
    "colab": {
      "provenance": []
    }
  },
  "nbformat": 4,
  "nbformat_minor": 0
}