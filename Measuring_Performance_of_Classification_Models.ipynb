{
  "cells": [
    {
      "cell_type": "markdown",
      "metadata": {
        "id": "pzu_MjgDyIkG"
      },
      "source": [
        "# Performance Metrics For Classification Models\n",
        "\n",
        "Once the model is trained, the next step is to evaluate its performance. There are different performance metrices that can be used to judge output of the model. In addition to model performance evaluation, these metrices are also very useful in comparing different models and choosing best performing model for given problem domain. \n",
        "\n",
        "\n",
        "In this tutorial, various performance matrices used in classification models are demonstrated. \n",
        "This includes, confusion matrix, precision, recall, ROC curve and AUC. In order to use these metrices,  scikit learn library that supports built-in functionality of these measures will be used. \n",
        "\n",
        "The data set used for demonstration is taken from medical domain. The name of the data set is 'heart disease' available at https://www.kaggle.com/ronitf/heart-disease-uci. The size of the data set is (303 x 14). It is a binary classification data set. \n",
        "\n",
        "The key steps followed in this tutorial to make you learn how to use performances metrices on given data set is detailed below:\n",
        "\n",
        "1. Load data set\n",
        "\n",
        "2. Create train and test data sets using Hold-out method\n",
        "\n",
        "3. Use train data set to learn the model\n",
        "\n",
        "4. Apply model on the test data\n",
        "\n",
        "5. Use Scikit learn performance metrices for model evaluation\n",
        "\n",
        "6. Interpret the results\n",
        "\n",
        "It is important to note that this tutorial is to help you understand how to use different  performance metrices. The choice of classification model, selecting the models learning and testing enviornment(such as Hold-out, K-cross validation, repeated Hold-out, Leave one Out cross validation) is users specific. The performance metrices discussed in this tutorial can be applied on any classificaion model and are independent of choice of learning and testing enviornments. The key to these metrices is that they are only applicable when model is ready and is to be tested for its performance strengths. \n"
      ]
    },
    {
      "cell_type": "markdown",
      "metadata": {
        "id": "nKZiDvEHyIkJ"
      },
      "source": [
        "# 1. Import libraries"
      ]
    },
    {
      "cell_type": "code",
      "execution_count": null,
      "metadata": {
        "id": "ptqAuPNqyIkJ"
      },
      "outputs": [],
      "source": [
        "# importing Pandas for data manipulation\n",
        "import pandas as pd\n",
        "import numpy as np\n",
        "\n",
        "# importing decision tree classifier\n",
        "\n",
        "from sklearn.tree import DecisionTreeClassifier\n",
        "\n",
        "# importing method for Hold-out\n",
        "\n",
        "from sklearn.model_selection import train_test_split \n",
        "\n",
        "#importing methods for model evaluation\n",
        "from sklearn import metrics\n",
        "\n",
        "# importing matplotlib for visualization\n",
        "from matplotlib.pyplot import boxplot\n",
        "import matplotlib.pyplot as plt\n",
        "import seaborn as sns\n",
        "%matplotlib inline"
      ]
    },
    {
      "cell_type": "markdown",
      "metadata": {
        "id": "8cwL6BnDyIkK"
      },
      "source": [
        "# 2. Loading data set"
      ]
    },
    {
      "cell_type": "code",
      "execution_count": null,
      "metadata": {
        "id": "wpWUyP8UyIkK",
        "outputId": "5af8b230-430c-459d-f4d3-8287abb6d5ee"
      },
      "outputs": [
        {
          "name": "stdout",
          "output_type": "stream",
          "text": [
            "<class 'pandas.core.frame.DataFrame'>\n",
            "RangeIndex: 303 entries, 0 to 302\n",
            "Data columns (total 14 columns):\n",
            "age         303 non-null int64\n",
            "sex         303 non-null int64\n",
            "cp          303 non-null int64\n",
            "trestbps    303 non-null int64\n",
            "chol        303 non-null int64\n",
            "fbs         303 non-null int64\n",
            "restecg     303 non-null int64\n",
            "thalach     303 non-null int64\n",
            "exang       303 non-null int64\n",
            "oldpeak     303 non-null float64\n",
            "slope       303 non-null int64\n",
            "ca          303 non-null int64\n",
            "thal        303 non-null int64\n",
            "target      303 non-null int64\n",
            "dtypes: float64(1), int64(13)\n",
            "memory usage: 33.2 KB\n"
          ]
        }
      ],
      "source": [
        "dataset = pd.read_csv(\"Data sets/heart.csv\")\n",
        "dataset.info()"
      ]
    },
    {
      "cell_type": "markdown",
      "metadata": {
        "id": "n5bLht3CyIkM"
      },
      "source": [
        "# 3. Creating Training and Test split\n",
        "\n",
        "Training set will be used for model learning whereas, test set for performance evaluation"
      ]
    },
    {
      "cell_type": "code",
      "execution_count": null,
      "metadata": {
        "id": "OY_YSq0syIkM",
        "outputId": "a3fa85ce-0a9d-4635-f1a7-f74fbe7a44c9"
      },
      "outputs": [
        {
          "name": "stdout",
          "output_type": "stream",
          "text": [
            "The sample training data without target feature\n",
            "\n",
            "(212, 13)\n",
            "\n",
            "The sample with only target feature\n",
            "\n",
            "(91,)\n"
          ]
        }
      ],
      "source": [
        "# My_data contains all data points from My_data set from from first feature to 12th feature(indicator features)\n",
        "My_data = dataset.iloc[:,0:13] \n",
        "\n",
        "# My_target contains class information which is 13th feature in the data set of \n",
        "\n",
        "My_data_target=dataset.iloc[:,13]\n",
        "\n",
        "\n",
        "X_train, X_test, Y_train, Y_test = train_test_split(My_data, My_data_target, test_size=0.3, random_state=10)\n",
        "\n",
        "print(\"The sample training data without target feature\\n\")\n",
        "print(X_train.shape)\n",
        "print(\"\\nThe sample with only target feature\\n\")\n",
        "print(Y_test.shape)"
      ]
    },
    {
      "cell_type": "markdown",
      "metadata": {
        "id": "GhU9S7TayIkM"
      },
      "source": [
        "# 4. Learning  Model Under Hold-out method"
      ]
    },
    {
      "cell_type": "code",
      "execution_count": null,
      "metadata": {
        "id": "Q824ipOByIkN",
        "outputId": "5eaa2824-0749-4aa2-e55a-c897f432a753"
      },
      "outputs": [
        {
          "data": {
            "text/plain": [
              "DecisionTreeClassifier(class_weight=None, criterion='gini', max_depth=None,\n",
              "                       max_features=None, max_leaf_nodes=None,\n",
              "                       min_impurity_decrease=0.0, min_impurity_split=None,\n",
              "                       min_samples_leaf=1, min_samples_split=2,\n",
              "                       min_weight_fraction_leaf=0.0, presort=False,\n",
              "                       random_state=None, splitter='best')"
            ]
          },
          "execution_count": 21,
          "metadata": {},
          "output_type": "execute_result"
        }
      ],
      "source": [
        "# creating instance of Decision tree classifier\n",
        "\n",
        "DT_model_Holdout = DecisionTreeClassifier()\n",
        "\n",
        "# fitting the model to training data set\n",
        "DT_model_Holdout.fit(X_train, Y_train)\n",
        "\n"
      ]
    },
    {
      "cell_type": "markdown",
      "metadata": {
        "id": "UImdYg4RyIkN"
      },
      "source": [
        "# 5. Testing Model on Test Data"
      ]
    },
    {
      "cell_type": "code",
      "execution_count": null,
      "metadata": {
        "id": "gZSMTh-3yIkN"
      },
      "outputs": [],
      "source": [
        "# Getting prediction on test set\n",
        "\n",
        "DT_model_Holdout_pred_test= DT_model_Holdout.predict(X_test)"
      ]
    },
    {
      "cell_type": "markdown",
      "metadata": {
        "id": "cL08PE8YyIkO"
      },
      "source": [
        "# 6. Measuring Models Performance"
      ]
    },
    {
      "cell_type": "markdown",
      "metadata": {
        "id": "vJ6VV5IIyIkO"
      },
      "source": [
        "## 6.1 Estimating Models Accuracy"
      ]
    },
    {
      "cell_type": "code",
      "execution_count": null,
      "metadata": {
        "id": "Z-egK9spyIkO",
        "outputId": "7de2fc64-8768-4811-b6ad-e0402cdebd58"
      },
      "outputs": [
        {
          "name": "stdout",
          "output_type": "stream",
          "text": [
            "Accuracy: 73.0 %\n"
          ]
        }
      ],
      "source": [
        "# Computing Model Accuracy\n",
        "\n",
        "print(\"Accuracy:\",round(metrics.accuracy_score(Y_test, DT_model_Holdout_pred_test),2) * 100, \"%\")\n",
        "\n"
      ]
    },
    {
      "cell_type": "markdown",
      "metadata": {
        "id": "0TRnBnaGyIkO"
      },
      "source": [
        "Accuracy of Decision Tree model is 75% using Hold-Out method"
      ]
    },
    {
      "cell_type": "markdown",
      "metadata": {
        "id": "r2E1WboCyIkO"
      },
      "source": [
        "## 6.2 Printing Confusion Matrix"
      ]
    },
    {
      "cell_type": "code",
      "execution_count": null,
      "metadata": {
        "id": "tsls4HYoyIkP",
        "outputId": "1d7008e6-77ff-42e0-c73d-3869958bd87c"
      },
      "outputs": [
        {
          "name": "stdout",
          "output_type": "stream",
          "text": [
            "Confusion matrix\n",
            "---------------\n",
            "[[32 18]\n",
            " [ 7 34]]\n"
          ]
        }
      ],
      "source": [
        "print (\"Confusion matrix\")\n",
        "\n",
        "print (\"---------------\")\n",
        "\n",
        "Confusion_matrix=metrics.confusion_matrix(Y_test, DT_model_Holdout_pred_test)\n",
        "print(Confusion_matrix)"
      ]
    },
    {
      "cell_type": "markdown",
      "metadata": {
        "id": "CLD5Xl05yIkP"
      },
      "source": [
        "The output of confusion matrix indicates that: TN= 32, TP = 36, FP = 18 and FN = 5. The total wrong predictions made by the model are: FP + FN = 23 and total correct predictions are: TP + TN = 68. "
      ]
    },
    {
      "cell_type": "markdown",
      "metadata": {
        "id": "_483tz69yIkP"
      },
      "source": [
        "### 6.2.1 Printing Confusion Matrix Using Seaborn"
      ]
    },
    {
      "cell_type": "code",
      "execution_count": null,
      "metadata": {
        "id": "OvPm12EfyIkP",
        "outputId": "02153dbd-25ed-453b-e0bb-c53b1201e5cd"
      },
      "outputs": [
        {
          "data": {
            "image/png": "[encoded data removed]",
            "text/plain": [
              "<Figure size 432x288 with 2 Axes>"
            ]
          },
          "metadata": {},
          "output_type": "display_data"
        }
      ],
      "source": [
        "\n",
        "ax= plt.subplot()\n",
        "sns.heatmap(Confusion_matrix, annot=True, ax = ax, cmap=\"viridis\"); #annot=True to annotate cells\n",
        "\n",
        "# labels, title and ticks\n",
        "ax.set_xlabel('Predicted labels');ax.set_ylabel('True labels'); \n",
        "ax.set_title('Confusion Matrix'); \n",
        "ax.xaxis.set_ticklabels(['class 0', 'class 1']); ax.yaxis.set_ticklabels(['class 0', 'class 1']);\n",
        "\n"
      ]
    },
    {
      "cell_type": "markdown",
      "metadata": {
        "id": "U72drVrQyIkP"
      },
      "source": [
        "Heatmap from Seaborn can be used for better visualization of confusion matrix. "
      ]
    },
    {
      "cell_type": "markdown",
      "metadata": {
        "id": "W8_6zQ08yIkQ"
      },
      "source": [
        "## 6.3 Printing Classification Report"
      ]
    },
    {
      "cell_type": "code",
      "execution_count": null,
      "metadata": {
        "id": "XotaTZf3yIkQ",
        "outputId": "dc3a3408-7dc7-4413-c785-19cdc243d87d"
      },
      "outputs": [
        {
          "name": "stdout",
          "output_type": "stream",
          "text": [
            "The detailed Classification Report\n",
            "----------------------------------\n",
            "              precision    recall  f1-score   support\n",
            "\n",
            "     class 0       0.82      0.64      0.72        50\n",
            "     class 1       0.65      0.83      0.73        41\n",
            "\n",
            "    accuracy                           0.73        91\n",
            "   macro avg       0.74      0.73      0.73        91\n",
            "weighted avg       0.75      0.73      0.72        91\n",
            "\n"
          ]
        }
      ],
      "source": [
        "# Model detailed classification report\n",
        "target_names = ['class 0', 'class 1']\n",
        "\n",
        "\n",
        "print(\"The detailed Classification Report\")\n",
        "print(\"----------------------------------\")\n",
        "print(metrics.classification_report(Y_test, DT_model_Holdout_pred_test,target_names =target_names))"
      ]
    },
    {
      "cell_type": "markdown",
      "metadata": {
        "id": "TTmeVIVmyIkQ"
      },
      "source": [
        "classfication_report() function in scikit learn allows to inspect performance of model on indicidual class. We can see that on class 0, precision is 86%(32/(32+5)) whereas, it is 67%(36/(36+18)) for class 1. It also detailed recall, f1-score and weighted average to judge model performance"
      ]
    },
    {
      "cell_type": "markdown",
      "metadata": {
        "id": "qMmw_zHcyIkQ"
      },
      "source": [
        "## 6.4  Plotting ROC curve\n",
        "\n",
        "ROC(Receiver Operating Characteristic) curve the true positive rate (Sensitivity) is plotted in function of the false positive rate (100-Specificity) for different cut-off points of a parameter. Each point on the ROC curve represents a sensitivity/specificity pair corresponding to a particular decision threshold. The area under the ROC curve (AUC) is a measure of how well a parameter can distinguish between two different classes in the present in the data set. The formula for TPR and FPR are following:\n",
        "\n",
        "TPR = TP(TP+FN) and FPR = FP(FP+TN)\n",
        "\n",
        "In order to plot ROC curve, we need to use predict_proba() method with the fitted function while model learning as it returns the probability of an instance belonging to different classes. For a binary classification problem, predict_proba() returns class probabilities for each class. The first column contains the probability of the first class and the second column contains the probability of the second class. In order to plot ROC, we use the second column to the probabilities generated by predict_proba() function and pass it to  metrics.auc()."
      ]
    },
    {
      "cell_type": "code",
      "execution_count": null,
      "metadata": {
        "id": "wD-_mEUlyIkQ",
        "outputId": "038c2779-e2b2-4e25-f881-76677f995dd3"
      },
      "outputs": [
        {
          "data": {
            "image/png": "[encoded data removed]",
            "text/plain": [
              "<Figure size 432x288 with 1 Axes>"
            ]
          },
          "metadata": {},
          "output_type": "display_data"
        }
      ],
      "source": [
        "# Using predict_proba() function on test data \n",
        "DT_model_pred_prob= DT_model_Holdout.predict_proba(X_test)\n",
        "preds = DT_model_pred_prob[:,1]\n",
        "\n",
        "\n",
        "# getting fpr, tpr values to plot ROC curve at different thresholds\n",
        "fpr, tpr, threshold = metrics.roc_curve(Y_test, preds)\n",
        "roc_auc = metrics.auc(fpr, tpr)\n",
        "\n",
        "# plotting ROC curve with AUC value\n",
        "plt.title('Receiver Operating Characteristic')\n",
        "plt.plot(fpr, tpr, 'b', label = 'AUC = %0.2f' % roc_auc)\n",
        "plt.legend(loc = 'lower right')\n",
        "plt.plot([0, 1], [0, 1],'r--')\n",
        "plt.xlim([0, 1])\n",
        "plt.ylim([0, 1])\n",
        "plt.ylabel('True Positive Rate')\n",
        "plt.xlabel('False Positive Rate')\n",
        "plt.show()\n",
        "\n"
      ]
    },
    {
      "cell_type": "markdown",
      "metadata": {
        "id": "hiBJvVFfyIkR"
      },
      "source": [
        "A good model has a closer  curve that follows the left-hand border and then the top border of the ROC space. Since the ROC curve achieved by decision tree models moves slightly away from left hand border shows average performance by the model. Also, AUC which stands for area under curve provides quantitative measure of the performance of the model. The value close to 100% indicates very good performance by the model. In the output we received by the model, AUC=76% does not indicate a very good performance by the model but, can be accpeted as avegrage performing model(subjective to data set domain and user's choice)"
      ]
    },
    {
      "cell_type": "markdown",
      "metadata": {
        "id": "LYTgpfhUyIkR"
      },
      "source": []
    }
  ],
  "metadata": {
    "kernelspec": {
      "display_name": "Python 3",
      "language": "python",
      "name": "python3"
    },
    "language_info": {
      "codemirror_mode": {
        "name": "ipython",
        "version": 3
      },
      "file_extension": ".py",
      "mimetype": "text/x-python",
      "name": "python",
      "nbconvert_exporter": "python",
      "pygments_lexer": "ipython3",
      "version": "3.6.5"
    },
    "colab": {
      "provenance": []
    }
  },
  "nbformat": 4,
  "nbformat_minor": 0
}